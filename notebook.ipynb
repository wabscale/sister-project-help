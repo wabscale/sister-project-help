{
 "cells": [
  {
   "cell_type": "code",
   "execution_count": 1,
   "id": "3f9f5464-3a3f-4890-9545-5f6a12ad2965",
   "metadata": {},
   "outputs": [
    {
     "data": {
      "text/html": [
       "<div>\n",
       "<style scoped>\n",
       "    .dataframe tbody tr th:only-of-type {\n",
       "        vertical-align: middle;\n",
       "    }\n",
       "\n",
       "    .dataframe tbody tr th {\n",
       "        vertical-align: top;\n",
       "    }\n",
       "\n",
       "    .dataframe thead th {\n",
       "        text-align: right;\n",
       "    }\n",
       "</style>\n",
       "<table border=\"1\" class=\"dataframe\">\n",
       "  <thead>\n",
       "    <tr style=\"text-align: right;\">\n",
       "      <th></th>\n",
       "      <th>PassengerId</th>\n",
       "      <th>Survived</th>\n",
       "      <th>Pclass</th>\n",
       "      <th>Name</th>\n",
       "      <th>Sex</th>\n",
       "      <th>Age</th>\n",
       "      <th>SibSp</th>\n",
       "      <th>Parch</th>\n",
       "      <th>Ticket</th>\n",
       "      <th>Fare</th>\n",
       "      <th>Cabin</th>\n",
       "      <th>Embarked</th>\n",
       "    </tr>\n",
       "  </thead>\n",
       "  <tbody>\n",
       "    <tr>\n",
       "      <th>0</th>\n",
       "      <td>1</td>\n",
       "      <td>0</td>\n",
       "      <td>3</td>\n",
       "      <td>Braund, Mr. Owen Harris</td>\n",
       "      <td>male</td>\n",
       "      <td>22.0</td>\n",
       "      <td>1</td>\n",
       "      <td>0</td>\n",
       "      <td>A/5 21171</td>\n",
       "      <td>7.2500</td>\n",
       "      <td>NaN</td>\n",
       "      <td>S</td>\n",
       "    </tr>\n",
       "    <tr>\n",
       "      <th>1</th>\n",
       "      <td>2</td>\n",
       "      <td>1</td>\n",
       "      <td>1</td>\n",
       "      <td>Cumings, Mrs. John Bradley (Florence Briggs Th...</td>\n",
       "      <td>female</td>\n",
       "      <td>38.0</td>\n",
       "      <td>1</td>\n",
       "      <td>0</td>\n",
       "      <td>PC 17599</td>\n",
       "      <td>71.2833</td>\n",
       "      <td>C85</td>\n",
       "      <td>C</td>\n",
       "    </tr>\n",
       "    <tr>\n",
       "      <th>2</th>\n",
       "      <td>3</td>\n",
       "      <td>1</td>\n",
       "      <td>3</td>\n",
       "      <td>Heikkinen, Miss. Laina</td>\n",
       "      <td>female</td>\n",
       "      <td>26.0</td>\n",
       "      <td>0</td>\n",
       "      <td>0</td>\n",
       "      <td>STON/O2. 3101282</td>\n",
       "      <td>7.9250</td>\n",
       "      <td>NaN</td>\n",
       "      <td>S</td>\n",
       "    </tr>\n",
       "    <tr>\n",
       "      <th>3</th>\n",
       "      <td>4</td>\n",
       "      <td>1</td>\n",
       "      <td>1</td>\n",
       "      <td>Futrelle, Mrs. Jacques Heath (Lily May Peel)</td>\n",
       "      <td>female</td>\n",
       "      <td>35.0</td>\n",
       "      <td>1</td>\n",
       "      <td>0</td>\n",
       "      <td>113803</td>\n",
       "      <td>53.1000</td>\n",
       "      <td>C123</td>\n",
       "      <td>S</td>\n",
       "    </tr>\n",
       "    <tr>\n",
       "      <th>4</th>\n",
       "      <td>5</td>\n",
       "      <td>0</td>\n",
       "      <td>3</td>\n",
       "      <td>Allen, Mr. William Henry</td>\n",
       "      <td>male</td>\n",
       "      <td>35.0</td>\n",
       "      <td>0</td>\n",
       "      <td>0</td>\n",
       "      <td>373450</td>\n",
       "      <td>8.0500</td>\n",
       "      <td>NaN</td>\n",
       "      <td>S</td>\n",
       "    </tr>\n",
       "  </tbody>\n",
       "</table>\n",
       "</div>"
      ],
      "text/plain": [
       "   PassengerId  Survived  Pclass  \\\n",
       "0            1         0       3   \n",
       "1            2         1       1   \n",
       "2            3         1       3   \n",
       "3            4         1       1   \n",
       "4            5         0       3   \n",
       "\n",
       "                                                Name     Sex   Age  SibSp  \\\n",
       "0                            Braund, Mr. Owen Harris    male  22.0      1   \n",
       "1  Cumings, Mrs. John Bradley (Florence Briggs Th...  female  38.0      1   \n",
       "2                             Heikkinen, Miss. Laina  female  26.0      0   \n",
       "3       Futrelle, Mrs. Jacques Heath (Lily May Peel)  female  35.0      1   \n",
       "4                           Allen, Mr. William Henry    male  35.0      0   \n",
       "\n",
       "   Parch            Ticket     Fare Cabin Embarked  \n",
       "0      0         A/5 21171   7.2500   NaN        S  \n",
       "1      0          PC 17599  71.2833   C85        C  \n",
       "2      0  STON/O2. 3101282   7.9250   NaN        S  \n",
       "3      0            113803  53.1000  C123        S  \n",
       "4      0            373450   8.0500   NaN        S  "
      ]
     },
     "execution_count": 1,
     "metadata": {},
     "output_type": "execute_result"
    }
   ],
   "source": [
    "import matplotlib.pyplot as plt\n",
    "import pandas as pd\n",
    "import numpy as np\n",
    "\n",
    "df = pd.read_csv('./titanic.csv')\n",
    "df.head()"
   ]
  },
  {
   "cell_type": "code",
   "execution_count": 2,
   "id": "9a78996f-e1bf-400c-8493-47c9c2e7d668",
   "metadata": {},
   "outputs": [
    {
     "data": {
      "text/html": [
       "<div>\n",
       "<style scoped>\n",
       "    .dataframe tbody tr th:only-of-type {\n",
       "        vertical-align: middle;\n",
       "    }\n",
       "\n",
       "    .dataframe tbody tr th {\n",
       "        vertical-align: top;\n",
       "    }\n",
       "\n",
       "    .dataframe thead th {\n",
       "        text-align: right;\n",
       "    }\n",
       "</style>\n",
       "<table border=\"1\" class=\"dataframe\">\n",
       "  <thead>\n",
       "    <tr style=\"text-align: right;\">\n",
       "      <th></th>\n",
       "      <th>0</th>\n",
       "    </tr>\n",
       "  </thead>\n",
       "  <tbody>\n",
       "    <tr>\n",
       "      <th>survived</th>\n",
       "      <td>342</td>\n",
       "    </tr>\n",
       "    <tr>\n",
       "      <th>died</th>\n",
       "      <td>549</td>\n",
       "    </tr>\n",
       "  </tbody>\n",
       "</table>\n",
       "</div>"
      ],
      "text/plain": [
       "            0\n",
       "survived  342\n",
       "died      549"
      ]
     },
     "execution_count": 2,
     "metadata": {},
     "output_type": "execute_result"
    }
   ],
   "source": [
    "survived = df[df['Survived'] == 1]['Survived']\n",
    "died = df[df['Survived'] == 0]['Survived']\n",
    "\n",
    "ddf = pd.DataFrame(data=[[len(survived)], [len(died)]], index=['survived', 'died'])\n",
    "\n",
    "ddf.to_csv('titanic_survived_died_freq.csv')\n",
    "ddf.head()"
   ]
  },
  {
   "cell_type": "code",
   "execution_count": 3,
   "id": "5f15c5b3-2335-4540-8bf1-23a02cded161",
   "metadata": {},
   "outputs": [
    {
     "data": {
      "image/png": "[encoded data removed]",
      "text/plain": [
       "<Figure size 432x288 with 1 Axes>"
      ]
     },
     "metadata": {},
     "output_type": "display_data"
    }
   ],
   "source": [
    "fig, ax = plt.subplots()\n",
    "fig.patch.set_facecolor('white')\n",
    "\n",
    "pd.DataFrame(data=[[len(survived), len(died)]], columns=['survived', 'died']).plot.bar(ax=ax)\n",
    "ax.set(title='titanic survived frequency', xlabel='', ylabel='')\n",
    "fig.savefig('hist.png')"
   ]
  },
  {
   "cell_type": "code",
   "execution_count": 4,
   "id": "3cbfd0d3-2986-4dd7-b47d-7fee5f252a64",
   "metadata": {},
   "outputs": [
    {
     "data": {
      "image/png": "[encoded data removed]",
      "text/plain": [
       "<Figure size 432x288 with 1 Axes>"
      ]
     },
     "metadata": {},
     "output_type": "display_data"
    }
   ],
   "source": [
    "fig, ax = plt.subplots()\n",
    "fig.patch.set_facecolor('white')\n",
    "\n",
    "ddf.plot.pie(subplots=True, ax=ax)\n",
    "ax.set(title='titanic survived frequency', xlabel='', ylabel='')\n",
    "fig.savefig('pie.png')"
   ]
  },
  {
   "cell_type": "code",
   "execution_count": 5,
   "id": "a11ce162-8425-45e1-b3c8-e9153a6dd85e",
   "metadata": {},
   "outputs": [
    {
     "data": {
      "image/png": "[encoded data removed]",
      "text/plain": [
       "<Figure size 432x288 with 1 Axes>"
      ]
     },
     "metadata": {},
     "output_type": "display_data"
    }
   ],
   "source": [
    "fig, ax = plt.subplots()\n",
    "fig.patch.set_facecolor('white')\n",
    "df['Age'].plot.hist(bins=15, ax=ax)\n",
    "fig.savefig('age_dist.png')"
   ]
  },
  {
   "cell_type": "code",
   "execution_count": 6,
   "id": "230c6f46-e7e0-47d5-a3bb-7a35fa5bdf9e",
   "metadata": {},
   "outputs": [
    {
     "data": {
      "text/plain": [
       "<AxesSubplot:ylabel='Frequency'>"
      ]
     },
     "execution_count": 6,
     "metadata": {},
     "output_type": "execute_result"
    },
    {
     "data": {
      "image/png": "[encoded data removed]",
      "text/plain": [
       "<Figure size 432x288 with 1 Axes>"
      ]
     },
     "metadata": {
      "needs_background": "light"
     },
     "output_type": "display_data"
    }
   ],
   "source": [
    "df[df['Survived'] == 1]['Age'].plot.hist(bins=15)"
   ]
  },
  {
   "cell_type": "code",
   "execution_count": 7,
   "id": "0df795af-0104-40e5-b3e6-e81abe7c3902",
   "metadata": {},
   "outputs": [
    {
     "data": {
      "text/plain": [
       "<AxesSubplot:ylabel='Frequency'>"
      ]
     },
     "execution_count": 7,
     "metadata": {},
     "output_type": "execute_result"
    },
    {
     "data": {
      "image/png": "[encoded data removed]",
      "text/plain": [
       "<Figure size 432x288 with 1 Axes>"
      ]
     },
     "metadata": {
      "needs_background": "light"
     },
     "output_type": "display_data"
    }
   ],
   "source": [
    "df[df['Survived'] == 0]['Age'].plot.hist(bins=15)"
   ]
  },
  {
   "cell_type": "code",
   "execution_count": 8,
   "id": "a655f92d-a58d-4264-b744-57a6acfb9c72",
   "metadata": {},
   "outputs": [],
   "source": [
    "df[df['Survived'] == 1]['Age'].to_csv('titanic_age_survived.csv')\n",
    "df[df['Survived'] == 0]['Age'].to_csv('titanic_age_survived.csv')\n",
    "df['Age'].to_csv('titanic_age_both.csv')"
   ]
  },
  {
   "cell_type": "code",
   "execution_count": 9,
   "id": "c8149202-36b0-4a8f-8966-2b3cfe57d2a5",
   "metadata": {},
   "outputs": [
    {
     "data": {
      "text/html": [
       "<div>\n",
       "<style scoped>\n",
       "    .dataframe tbody tr th:only-of-type {\n",
       "        vertical-align: middle;\n",
       "    }\n",
       "\n",
       "    .dataframe tbody tr th {\n",
       "        vertical-align: top;\n",
       "    }\n",
       "\n",
       "    .dataframe thead th {\n",
       "        text-align: right;\n",
       "    }\n",
       "</style>\n",
       "<table border=\"1\" class=\"dataframe\">\n",
       "  <thead>\n",
       "    <tr style=\"text-align: right;\">\n",
       "      <th></th>\n",
       "      <th>age_s</th>\n",
       "      <th>freq</th>\n",
       "      <th>rel freq</th>\n",
       "    </tr>\n",
       "  </thead>\n",
       "  <tbody>\n",
       "    <tr>\n",
       "      <th>0</th>\n",
       "      <td>0-5</td>\n",
       "      <td>40</td>\n",
       "      <td>0.056022</td>\n",
       "    </tr>\n",
       "    <tr>\n",
       "      <th>1</th>\n",
       "      <td>5-10</td>\n",
       "      <td>22</td>\n",
       "      <td>0.030812</td>\n",
       "    </tr>\n",
       "    <tr>\n",
       "      <th>2</th>\n",
       "      <td>10-15</td>\n",
       "      <td>16</td>\n",
       "      <td>0.022409</td>\n",
       "    </tr>\n",
       "    <tr>\n",
       "      <th>3</th>\n",
       "      <td>15-20</td>\n",
       "      <td>86</td>\n",
       "      <td>0.120448</td>\n",
       "    </tr>\n",
       "    <tr>\n",
       "      <th>4</th>\n",
       "      <td>20-25</td>\n",
       "      <td>114</td>\n",
       "      <td>0.159664</td>\n",
       "    </tr>\n",
       "    <tr>\n",
       "      <th>5</th>\n",
       "      <td>25-30</td>\n",
       "      <td>106</td>\n",
       "      <td>0.148459</td>\n",
       "    </tr>\n",
       "    <tr>\n",
       "      <th>6</th>\n",
       "      <td>30-35</td>\n",
       "      <td>95</td>\n",
       "      <td>0.133053</td>\n",
       "    </tr>\n",
       "    <tr>\n",
       "      <th>7</th>\n",
       "      <td>35-40</td>\n",
       "      <td>72</td>\n",
       "      <td>0.100840</td>\n",
       "    </tr>\n",
       "    <tr>\n",
       "      <th>8</th>\n",
       "      <td>40-45</td>\n",
       "      <td>48</td>\n",
       "      <td>0.067227</td>\n",
       "    </tr>\n",
       "    <tr>\n",
       "      <th>9</th>\n",
       "      <td>45-50</td>\n",
       "      <td>41</td>\n",
       "      <td>0.057423</td>\n",
       "    </tr>\n",
       "    <tr>\n",
       "      <th>10</th>\n",
       "      <td>50-55</td>\n",
       "      <td>32</td>\n",
       "      <td>0.044818</td>\n",
       "    </tr>\n",
       "    <tr>\n",
       "      <th>11</th>\n",
       "      <td>55-60</td>\n",
       "      <td>16</td>\n",
       "      <td>0.022409</td>\n",
       "    </tr>\n",
       "    <tr>\n",
       "      <th>12</th>\n",
       "      <td>60-65</td>\n",
       "      <td>15</td>\n",
       "      <td>0.021008</td>\n",
       "    </tr>\n",
       "    <tr>\n",
       "      <th>13</th>\n",
       "      <td>65-70</td>\n",
       "      <td>4</td>\n",
       "      <td>0.005602</td>\n",
       "    </tr>\n",
       "    <tr>\n",
       "      <th>14</th>\n",
       "      <td>70-75</td>\n",
       "      <td>6</td>\n",
       "      <td>0.008403</td>\n",
       "    </tr>\n",
       "    <tr>\n",
       "      <th>15</th>\n",
       "      <td>80-85</td>\n",
       "      <td>1</td>\n",
       "      <td>0.001401</td>\n",
       "    </tr>\n",
       "  </tbody>\n",
       "</table>\n",
       "</div>"
      ],
      "text/plain": [
       "    age_s  freq  rel freq\n",
       "0     0-5    40  0.056022\n",
       "1    5-10    22  0.030812\n",
       "2   10-15    16  0.022409\n",
       "3   15-20    86  0.120448\n",
       "4   20-25   114  0.159664\n",
       "5   25-30   106  0.148459\n",
       "6   30-35    95  0.133053\n",
       "7   35-40    72  0.100840\n",
       "8   40-45    48  0.067227\n",
       "9   45-50    41  0.057423\n",
       "10  50-55    32  0.044818\n",
       "11  55-60    16  0.022409\n",
       "12  60-65    15  0.021008\n",
       "13  65-70     4  0.005602\n",
       "14  70-75     6  0.008403\n",
       "15  80-85     1  0.001401"
      ]
     },
     "execution_count": 9,
     "metadata": {},
     "output_type": "execute_result"
    }
   ],
   "source": [
    "_fdf = ((df[['Age']] // 5)  * 5 ).value_counts()\n",
    "\n",
    "age = list(map(lambda x: int(x[0]), _fdf.index))\n",
    "age_s = list(map(lambda x: f\"{int(x[0])}-{int(x[0])+5}\", _fdf.index))\n",
    "_fdf.values\n",
    "\n",
    "fdf = pd.DataFrame(data={'age': age, 'age_s': age_s, 'freq': _fdf.values, 'rel freq': _fdf.values / sum(_fdf.values)})\n",
    "fdf.sort_values(by='age', inplace=True)\n",
    "__fdf = fdf[['age_s', 'freq', 'rel freq']].reset_index(drop=True)\n",
    "__fdf"
   ]
  },
  {
   "cell_type": "code",
   "execution_count": 10,
   "id": "4e814e79-8cd5-4bd0-838c-42a0561a5cde",
   "metadata": {},
   "outputs": [],
   "source": [
    "__fdf.to_csv('age_freq.csv')"
   ]
  },
  {
   "cell_type": "code",
   "execution_count": 34,
   "id": "99255d58-9e65-46c3-8e4f-3fd8276ce80c",
   "metadata": {},
   "outputs": [
    {
     "data": {
      "text/plain": [
       "count    714.000000\n",
       "mean      29.699118\n",
       "std       14.526497\n",
       "min        0.420000\n",
       "25%       20.125000\n",
       "50%       28.000000\n",
       "75%       38.000000\n",
       "max       80.000000\n",
       "Name: Age, dtype: float64"
      ]
     },
     "execution_count": 34,
     "metadata": {},
     "output_type": "execute_result"
    }
   ],
   "source": [
    "age = df['Age'].dropna()\n",
    "age.describe()"
   ]
  },
  {
   "cell_type": "code",
   "execution_count": 35,
   "id": "ebf423bb-d3b6-4215-a56f-a1d3c6a463e1",
   "metadata": {},
   "outputs": [
    {
     "data": {
      "image/png": "[encoded data removed]",
      "text/plain": [
       "<Figure size 432x288 with 1 Axes>"
      ]
     },
     "metadata": {},
     "output_type": "display_data"
    }
   ],
   "source": [
    "fig, ax = plt.subplots()\n",
    "fig.patch.set_facecolor('white')\n",
    "\n",
    "ax.boxplot(age)\n",
    "ax.set(title='titanic age boxplot', xlabel='', ylabel='age')\n",
    "fig.savefig('boxplot.png')"
   ]
  },
  {
   "cell_type": "code",
   "execution_count": 27,
   "id": "36e47bdf-87bd-433b-84df-060baf620f5d",
   "metadata": {},
   "outputs": [
    {
     "data": {
      "text/plain": [
       "28.0"
      ]
     },
     "execution_count": 27,
     "metadata": {},
     "output_type": "execute_result"
    }
   ],
   "source": [
    "age.median()"
   ]
  },
  {
   "cell_type": "code",
   "execution_count": 28,
   "id": "1bc51e51-ac4a-4cdd-8552-688c508decf0",
   "metadata": {},
   "outputs": [
    {
     "data": {
      "text/plain": [
       "17.875"
      ]
     },
     "execution_count": 28,
     "metadata": {},
     "output_type": "execute_result"
    }
   ],
   "source": [
    "age.quantile(0.75) - age.quantile(0.25) "
   ]
  },
  {
   "cell_type": "code",
   "execution_count": 43,
   "id": "2ebf767f-5982-424e-a2af-63751df4ffd5",
   "metadata": {},
   "outputs": [
    {
     "data": {
      "text/plain": [
       "0.7226890756302521"
      ]
     },
     "execution_count": 43,
     "metadata": {},
     "output_type": "execute_result"
    }
   ],
   "source": [
    "std = age.std()\n",
    "mean = age.mean()\n",
    "total = len(age)\n",
    "\n",
    "_1stddev = len(list(filter(lambda x: mean-std < x < mean+std, age)))\n",
    "\n",
    "_1stddev / total"
   ]
  },
  {
   "cell_type": "code",
   "execution_count": 44,
   "id": "e7001d40-13f5-4378-bf3c-6a9d50685195",
   "metadata": {},
   "outputs": [
    {
     "data": {
      "text/plain": [
       "0.9593837535014006"
      ]
     },
     "execution_count": 44,
     "metadata": {},
     "output_type": "execute_result"
    }
   ],
   "source": [
    "_2stddev = len(list(filter(lambda x: mean-std*2 < x < mean+std*2, age)))\n",
    "_2stddev / total"
   ]
  },
  {
   "cell_type": "code",
   "execution_count": 46,
   "id": "49ba75e3-a0ad-4c3f-a6d1-cdc8ec856b87",
   "metadata": {},
   "outputs": [
    {
     "data": {
      "text/plain": [
       "0.9971988795518207"
      ]
     },
     "execution_count": 46,
     "metadata": {},
     "output_type": "execute_result"
    }
   ],
   "source": [
    "_3stddev = len(list(filter(lambda x: mean-std*3 < x < mean+std*3, age)))\n",
    "_3stddev / total"
   ]
  },
  {
   "cell_type": "code",
   "execution_count": 30,
   "id": "76765508-ce31-480b-a5b4-2d4032dac7a1",
   "metadata": {},
   "outputs": [
    {
     "data": {
      "text/plain": [
       "891"
      ]
     },
     "execution_count": 30,
     "metadata": {},
     "output_type": "execute_result"
    }
   ],
   "source": [
    "total"
   ]
  },
  {
   "cell_type": "code",
   "execution_count": 53,
   "id": "d34a363a-a894-466a-a592-af4685e06fc9",
   "metadata": {},
   "outputs": [
    {
     "data": {
      "text/plain": [
       "(0.646122982390736, 58.752112311726904)"
      ]
     },
     "execution_count": 53,
     "metadata": {},
     "output_type": "execute_result"
    }
   ],
   "source": [
    "mean-std*2, mean+std*2"
   ]
  },
  {
   "cell_type": "code",
   "execution_count": null,
   "id": "0124b526-ae12-45d4-8489-971a1adb5e18",
   "metadata": {},
   "outputs": [],
   "source": []
  }
 ],
 "metadata": {
  "kernelspec": {
   "display_name": "Python 3",
   "language": "python",
   "name": "python3"
  },
  "language_info": {
   "codemirror_mode": {
    "name": "ipython",
    "version": 3
   },
   "file_extension": ".py",
   "mimetype": "text/x-python",
   "name": "python",
   "nbconvert_exporter": "python",
   "pygments_lexer": "ipython3",
   "version": "3.9.3"
  }
 },
 "nbformat": 4,
 "nbformat_minor": 5
}
